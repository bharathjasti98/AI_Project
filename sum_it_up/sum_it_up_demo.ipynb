{
 "cells": [
  {
   "cell_type": "markdown",
   "metadata": {},
   "source": [
    "### Init"
   ]
  },
  {
   "cell_type": "markdown",
   "metadata": {},
   "source": [
    "This is a brief demo of the Sum it up\n",
    "\n",
    "The goal of the game \"Sum It Up\" is to be the first player to reach 100 points.\n",
    "\n",
    "Each player's turn consists of repeatedly rolling a die. \n",
    "\n",
    "After each roll, the player is faced with two choices: roll again, or hold (fall off to roll again).\n",
    "\n",
    "If the player rolls a 1, the player scores nothing and it becomes the opponent's turn.\n",
    "\n",
    "If the player rolls a number other than 1, the number is added to the player's turn total and the player's turn continues.\n",
    "\n",
    "If the player holds, the turn total, the sum of the rolls during the turn, is added to the player's score, and it becomes the opponent's turn.\n",
    "\n",
    "For such a simple dice game, one might expect a simple optimal strategy. As we shall see, \n",
    "\n",
    "this simple dice game yields a much more complex and captivating optimal policy."
   ]
  },
  {
   "cell_type": "code",
   "execution_count": 147,
   "metadata": {},
   "outputs": [
    {
     "name": "stdout",
     "output_type": "stream",
     "text": [
      "Requirement already satisfied: fs in c:\\users\\venka\\anaconda3\\lib\\site-packages (2.4.15)Note: you may need to restart the kernel to use updated packages.\n",
      "\n",
      "Requirement already satisfied: pytz in c:\\users\\venka\\anaconda3\\lib\\site-packages (from fs) (2021.3)\n",
      "Requirement already satisfied: six~=1.10 in c:\\users\\venka\\anaconda3\\lib\\site-packages (from fs) (1.16.0)\n",
      "Requirement already satisfied: setuptools in c:\\users\\venka\\anaconda3\\lib\\site-packages (from fs) (58.0.4)\n",
      "Requirement already satisfied: appdirs~=1.4.3 in c:\\users\\venka\\anaconda3\\lib\\site-packages (from fs) (1.4.4)\n"
     ]
    }
   ],
   "source": [
    "pip install fs"
   ]
  },
  {
   "cell_type": "code",
   "execution_count": 148,
   "metadata": {
    "ExecuteTime": {
     "end_time": "2019-01-12T09:06:52.253807Z",
     "start_time": "2019-01-12T09:06:51.966037Z"
    }
   },
   "outputs": [],
   "source": [
    "master_file = open(\"./sum_it_up.py\")\n",
    "exec(master_file.read())\n",
    "master_file.close()\n",
    "import os"
   ]
  },
  {
   "cell_type": "markdown",
   "metadata": {
    "ExecuteTime": {
     "end_time": "2019-01-09T07:29:06.703517Z",
     "start_time": "2019-01-09T07:29:06.700400Z"
    }
   },
   "source": [
    "### Players"
   ]
  },
  {
   "cell_type": "markdown",
   "metadata": {},
   "source": [
    "Next, we define players. There are three strategies:\n",
    "-  <code>strategy='learn'</code> $\\rightarrow$ learn, i.e. make future decisions based on past decisions; parameter: <code>learn_from</code>, a list of sources to learn from\n",
    "-  <code>strategy='hold'</code> $\\rightarrow$ hold at a specified integer; parameter: <code>hold_at</code>\n",
    "-  <code>strategy='random'</code> $\\rightarrow$ decide randomly whether or not to hold; parameter: <code>hold_p</code>\n",
    "\n",
    "Consider the following example."
   ]
  },
  {
   "cell_type": "code",
   "execution_count": 149,
   "metadata": {
    "ExecuteTime": {
     "end_time": "2019-01-12T09:06:52.259901Z",
     "start_time": "2019-01-12T09:06:52.255814Z"
    }
   },
   "outputs": [
    {
     "name": "stdout",
     "output_type": "stream",
     "text": [
      "Player: Teja\n",
      "Data written to: A_demo_dec\n",
      "Strategy: Learn from the following sources.\n",
      " A_demo_dec B_demo_dec\n"
     ]
    }
   ],
   "source": [
    "a = Player(name='Teja', write_to='A_demo_dec', strategy = 'learn', learn_from=['A_demo_dec', 'B_demo_dec'])\n",
    "print(a)"
   ]
  },
  {
   "cell_type": "code",
   "execution_count": 150,
   "metadata": {
    "ExecuteTime": {
     "end_time": "2019-01-12T09:06:52.385178Z",
     "start_time": "2019-01-12T09:06:52.262987Z"
    },
    "scrolled": true
   },
   "outputs": [
    {
     "name": "stdout",
     "output_type": "stream",
     "text": [
      "Player: Bharath\n",
      "Data written to: B_demo_dec\n",
      "Strategy: Random with probability 1.0.\n"
     ]
    }
   ],
   "source": [
    "b = Player(name='Bharath', write_to='B_demo_dec', strategy = 'random', hold_p=1)\n",
    "print(b)"
   ]
  },
  {
   "cell_type": "markdown",
   "metadata": {
    "ExecuteTime": {
     "end_time": "2019-01-09T07:40:25.672607Z",
     "start_time": "2019-01-09T07:40:00.944Z"
    }
   },
   "source": [
    "### Tournament"
   ]
  },
  {
   "cell_type": "markdown",
   "metadata": {},
   "source": [
    "A tournament is a sequence of games. It is initialised as follows."
   ]
  },
  {
   "cell_type": "code",
   "execution_count": 151,
   "metadata": {
    "ExecuteTime": {
     "end_time": "2019-01-12T09:06:52.483188Z",
     "start_time": "2019-01-12T09:06:52.389300Z"
    }
   },
   "outputs": [],
   "source": [
    "t = Tournament(a, b)"
   ]
  },
  {
   "cell_type": "markdown",
   "metadata": {},
   "source": [
    "We first delete old player data, so that Venkata Teja starts learning from scratch and we can see her improvement over the course of the tournament."
   ]
  },
  {
   "cell_type": "code",
   "execution_count": 152,
   "metadata": {
    "ExecuteTime": {
     "end_time": "2019-01-12T09:06:52.639785Z",
     "start_time": "2019-01-12T09:06:52.486592Z"
    }
   },
   "outputs": [],
   "source": [
    "if os.path.isfile('./player_data/A_demo_dec.p'):\n",
    "    os.remove('./player_data/A_demo_dec.p')\n",
    "if os.path.isfile('./player_data/B_demo_dec.p'):\n",
    "    os.remove('./player_data/B_demo_dec.p')"
   ]
  },
  {
   "cell_type": "markdown",
   "metadata": {},
   "source": [
    "Running <code>play_games()</code> will simulate <code>n</code> (default 100) games. Here, all decisions and whether or not the lead to victory are recorded after each game, and Teja will base future decisions on that experience."
   ]
  },
  {
   "cell_type": "code",
   "execution_count": 153,
   "metadata": {
    "ExecuteTime": {
     "end_time": "2019-01-12T09:06:54.220845Z",
     "start_time": "2019-01-12T09:06:52.641349Z"
    }
   },
   "outputs": [
    {
     "name": "stderr",
     "output_type": "stream",
     "text": [
      "<string>:248: TqdmDeprecationWarning: This function will be removed in tqdm==5.0.0\n",
      "Please use `tqdm.notebook.tqdm` instead of `tqdm.tqdm_notebook`\n"
     ]
    },
    {
     "data": {
      "application/vnd.jupyter.widget-view+json": {
       "model_id": "d3ee97ec567f4b94a10c9b14bbbcd024",
       "version_major": 2,
       "version_minor": 0
      },
      "text/plain": [
       "  0%|          | 0/10 [00:00<?, ?it/s]"
      ]
     },
     "metadata": {},
     "output_type": "display_data"
    },
    {
     "name": "stdout",
     "output_type": "stream",
     "text": [
      "Teja (5 wins) : (5 wins) Bharath\n"
     ]
    }
   ],
   "source": [
    "t.play_games(n=10)\n",
    "print(t)"
   ]
  },
  {
   "cell_type": "code",
   "execution_count": 154,
   "metadata": {
    "ExecuteTime": {
     "end_time": "2019-01-12T09:07:12.836392Z",
     "start_time": "2019-01-12T09:06:54.222543Z"
    }
   },
   "outputs": [
    {
     "name": "stderr",
     "output_type": "stream",
     "text": [
      "<string>:248: TqdmDeprecationWarning: This function will be removed in tqdm==5.0.0\n",
      "Please use `tqdm.notebook.tqdm` instead of `tqdm.tqdm_notebook`\n"
     ]
    },
    {
     "data": {
      "application/vnd.jupyter.widget-view+json": {
       "model_id": "ffe63319c9e945869a4a33374a827399",
       "version_major": 2,
       "version_minor": 0
      },
      "text/plain": [
       "  0%|          | 0/190 [00:00<?, ?it/s]"
      ]
     },
     "metadata": {},
     "output_type": "display_data"
    },
    {
     "name": "stdout",
     "output_type": "stream",
     "text": [
      "Teja (73 wins) : (27 wins) Bharath\n"
     ]
    }
   ],
   "source": [
    "t.play_games(n=190)\n",
    "print(t)"
   ]
  },
  {
   "cell_type": "code",
   "execution_count": 155,
   "metadata": {
    "ExecuteTime": {
     "end_time": "2019-01-12T09:08:33.688991Z",
     "start_time": "2019-01-12T09:07:12.840093Z"
    }
   },
   "outputs": [
    {
     "name": "stderr",
     "output_type": "stream",
     "text": [
      "<string>:248: TqdmDeprecationWarning: This function will be removed in tqdm==5.0.0\n",
      "Please use `tqdm.notebook.tqdm` instead of `tqdm.tqdm_notebook`\n"
     ]
    },
    {
     "data": {
      "application/vnd.jupyter.widget-view+json": {
       "model_id": "9650c1d3d6324e168c9d64360fbb5cc4",
       "version_major": 2,
       "version_minor": 0
      },
      "text/plain": [
       "  0%|          | 0/800 [00:00<?, ?it/s]"
      ]
     },
     "metadata": {},
     "output_type": "display_data"
    },
    {
     "name": "stdout",
     "output_type": "stream",
     "text": [
      "Teja (95 wins) : (5 wins) Bharath\n"
     ]
    }
   ],
   "source": [
    "t.play_games(n=800)\n",
    "print(t)"
   ]
  },
  {
   "cell_type": "markdown",
   "metadata": {},
   "source": [
    "### Output"
   ]
  },
  {
   "cell_type": "markdown",
   "metadata": {},
   "source": [
    "<code>Player</code> objects as well as <code>Tournament</code>s have can be printed, where printing a tournament gives the score over the last 100 games. Furthermore, can produce the following plot (the sequence that is plotted there can be obtained via <code>results_as_sequence()</code>)."
   ]
  },
  {
   "cell_type": "code",
   "execution_count": 156,
   "metadata": {
    "ExecuteTime": {
     "end_time": "2019-01-12T09:08:33.863663Z",
     "start_time": "2019-01-12T09:08:33.691486Z"
    }
   },
   "outputs": [
    {
     "data": {
      "image/png": "[encoded data removed]",
      "text/plain": [
       "<Figure size 432x288 with 1 Axes>"
      ]
     },
     "metadata": {
      "needs_background": "light"
     },
     "output_type": "display_data"
    }
   ],
   "source": [
    "t.plot_results()"
   ]
  },
  {
   "cell_type": "markdown",
   "metadata": {},
   "source": [
    "### The learning algorithm"
   ]
  },
  {
   "cell_type": "markdown",
   "metadata": {},
   "source": [
    "The task to be learned is to decide whether to continue a turn or to hold. The decision depends only on the player's score, the opponent's score, and the current turn total (cf. the Wiki page). This gives a small parameter space for the function that makes the decision -- its size is $100 \\times 100 \\times 100$. Hence, instead of using machine learning algorithms, the decisions that have been made in a game are recorded in a matrix once the game is concluded. This happens by simply increasing counters, and it has the advantage that the space complexity for the algorithm is constant. The matrix is of size $100 \\times 100 \\times 100 \\times 2 \\times 2$. If in a subsequent game, Teja has to make a decision for a certain situation <code>own_score</code>, <code>opp_score</code>, <code>turn_total</code> (first three dimesions), then the corresponding $2 \\times 2$ matrix (last two dimensions) shows her how often continue/hold decisions have lead to wins/losses in the past. She can then make her decision based on that."
   ]
  },
  {
   "cell_type": "code",
   "execution_count": 157,
   "metadata": {
    "ExecuteTime": {
     "end_time": "2019-01-12T09:08:33.879297Z",
     "start_time": "2019-01-12T09:08:33.866008Z"
    }
   },
   "outputs": [
    {
     "name": "stdout",
     "output_type": "stream",
     "text": [
      "0 : 0\n",
      "Turn: 0\n",
      "Roll: 1\n",
      "Kicked out.\n",
      "0 : 0\n",
      "Turn: 0\n",
      "Roll: 2\n",
      "Decided to hold.\n",
      "2 : 0\n",
      "Turn: 0\n",
      "Roll: 1\n",
      "Kicked out.\n",
      "2 : 0\n",
      "Turn: 0\n",
      "Roll: 2\n",
      "Turn: 2\n",
      "Roll: 1\n",
      "Kicked out.\n",
      "2 : 0\n",
      "Turn: 0\n",
      "Roll: 6\n",
      "Decided to hold.\n",
      "2 : 6\n",
      "Turn: 0\n",
      "Roll: 3\n",
      "Decided to hold.\n",
      "5 : 6\n",
      "Turn: 0\n",
      "Roll: 4\n",
      "Decided to hold.\n",
      "5 : 10\n",
      "Turn: 0\n",
      "Roll: 2\n",
      "Turn: 2\n",
      "Roll: 2\n",
      "Decided to hold.\n",
      "9 : 10\n",
      "Turn: 0\n",
      "Roll: 3\n",
      "Decided to hold.\n",
      "9 : 13\n",
      "Turn: 0\n",
      "Roll: 1\n",
      "Kicked out.\n",
      "9 : 13\n",
      "Turn: 0\n",
      "Roll: 4\n",
      "Decided to hold.\n",
      "9 : 17\n",
      "Turn: 0\n",
      "Roll: 4\n",
      "Turn: 4\n",
      "Roll: 3\n",
      "Decided to hold.\n",
      "16 : 17\n",
      "Turn: 0\n",
      "Roll: 2\n",
      "Decided to hold.\n",
      "16 : 19\n",
      "Turn: 0\n",
      "Roll: 2\n",
      "Decided to hold.\n",
      "18 : 19\n",
      "Turn: 0\n",
      "Roll: 3\n",
      "Decided to hold.\n",
      "18 : 22\n",
      "Turn: 0\n",
      "Roll: 5\n",
      "Decided to hold.\n",
      "23 : 22\n",
      "Turn: 0\n",
      "Roll: 4\n",
      "Decided to hold.\n",
      "23 : 26\n",
      "Turn: 0\n",
      "Roll: 4\n",
      "Decided to hold.\n",
      "27 : 26\n",
      "Turn: 0\n",
      "Roll: 1\n",
      "Kicked out.\n",
      "27 : 26\n",
      "Turn: 0\n",
      "Roll: 6\n",
      "Decided to hold.\n",
      "33 : 26\n",
      "Turn: 0\n",
      "Roll: 5\n",
      "Decided to hold.\n",
      "33 : 31\n",
      "Turn: 0\n",
      "Roll: 5\n",
      "Turn: 5\n",
      "Roll: 5\n",
      "Decided to hold.\n",
      "43 : 31\n",
      "Turn: 0\n",
      "Roll: 1\n",
      "Kicked out.\n",
      "43 : 31\n",
      "Turn: 0\n",
      "Roll: 4\n",
      "Turn: 4\n",
      "Roll: 2\n",
      "Decided to hold.\n",
      "49 : 31\n",
      "Turn: 0\n",
      "Roll: 4\n",
      "Decided to hold.\n",
      "49 : 35\n",
      "Turn: 0\n",
      "Roll: 3\n",
      "Decided to hold.\n",
      "52 : 35\n",
      "Turn: 0\n",
      "Roll: 2\n",
      "Decided to hold.\n",
      "52 : 37\n",
      "Turn: 0\n",
      "Roll: 2\n",
      "Decided to hold.\n",
      "54 : 37\n",
      "Turn: 0\n",
      "Roll: 6\n",
      "Decided to hold.\n",
      "54 : 43\n",
      "Turn: 0\n",
      "Roll: 2\n",
      "Turn: 2\n",
      "Roll: 3\n",
      "Decided to hold.\n",
      "59 : 43\n",
      "Turn: 0\n",
      "Roll: 2\n",
      "Decided to hold.\n",
      "59 : 45\n",
      "Turn: 0\n",
      "Roll: 5\n",
      "Decided to hold.\n",
      "64 : 45\n",
      "Turn: 0\n",
      "Roll: 4\n",
      "Decided to hold.\n",
      "64 : 49\n",
      "Turn: 0\n",
      "Roll: 6\n",
      "Decided to hold.\n",
      "70 : 49\n",
      "Turn: 0\n",
      "Roll: 4\n",
      "Decided to hold.\n",
      "70 : 53\n",
      "Turn: 0\n",
      "Roll: 1\n",
      "Kicked out.\n",
      "70 : 53\n",
      "Turn: 0\n",
      "Roll: 6\n",
      "Decided to hold.\n",
      "70 : 59\n",
      "Turn: 0\n",
      "Roll: 5\n",
      "Decided to hold.\n",
      "75 : 59\n",
      "Turn: 0\n",
      "Roll: 5\n",
      "Decided to hold.\n",
      "75 : 64\n",
      "Turn: 0\n",
      "Roll: 2\n",
      "Turn: 2\n",
      "Roll: 1\n",
      "Kicked out.\n",
      "75 : 64\n",
      "Turn: 0\n",
      "Roll: 1\n",
      "Kicked out.\n",
      "75 : 64\n",
      "Turn: 0\n",
      "Roll: 1\n",
      "Kicked out.\n",
      "75 : 64\n",
      "Turn: 0\n",
      "Roll: 4\n",
      "Decided to hold.\n",
      "75 : 68\n",
      "Turn: 0\n",
      "Roll: 2\n",
      "Decided to hold.\n",
      "77 : 68\n",
      "Turn: 0\n",
      "Roll: 5\n",
      "Decided to hold.\n",
      "77 : 73\n",
      "Turn: 0\n",
      "Roll: 3\n",
      "Turn: 3\n",
      "Roll: 6\n",
      "Decided to hold.\n",
      "86 : 73\n",
      "Turn: 0\n",
      "Roll: 3\n",
      "Decided to hold.\n",
      "86 : 76\n",
      "Turn: 0\n",
      "Roll: 3\n",
      "Decided to hold.\n",
      "89 : 76\n",
      "Turn: 0\n",
      "Roll: 2\n",
      "Decided to hold.\n",
      "89 : 78\n",
      "Turn: 0\n",
      "Roll: 6\n",
      "Decided to hold.\n",
      "95 : 78\n",
      "Turn: 0\n",
      "Roll: 3\n",
      "Decided to hold.\n",
      "95 : 81\n",
      "Turn: 0\n",
      "Roll: 1\n",
      "Kicked out.\n",
      "95 : 81\n",
      "Turn: 0\n",
      "Roll: 6\n",
      "Decided to hold.\n",
      "95 : 87\n",
      "Turn: 0\n",
      "Roll: 4\n",
      "Decided to hold.\n",
      "99 : 87\n",
      "Turn: 0\n",
      "Roll: 2\n",
      "Decided to hold.\n",
      "99 : 89\n",
      "Turn: 0\n",
      "Roll: 2\n",
      "Decided to hold.\n",
      "101 : 89\n",
      "Turn: 0\n",
      "Roll: 4\n",
      "Decided to hold.\n",
      "101 : 93\n"
     ]
    },
    {
     "data": {
      "text/plain": [
       "[True]"
      ]
     },
     "execution_count": 157,
     "metadata": {},
     "output_type": "execute_result"
    }
   ],
   "source": [
    "t.play_game()"
   ]
  },
  {
   "cell_type": "code",
   "execution_count": 158,
   "metadata": {
    "ExecuteTime": {
     "end_time": "2019-01-12T09:08:35.628215Z",
     "start_time": "2019-01-12T09:08:33.881808Z"
    }
   },
   "outputs": [
    {
     "data": {
      "image/png": "[encoded data removed]",
      "text/plain": [
       "<Figure size 432x288 with 1 Axes>"
      ]
     },
     "metadata": {
      "needs_background": "light"
     },
     "output_type": "display_data"
    }
   ],
   "source": [
    "a.visualise_decision_matrix()"
   ]
  },
  {
   "cell_type": "code",
   "execution_count": null,
   "metadata": {},
   "outputs": [],
   "source": []
  }
 ],
 "metadata": {
  "kernelspec": {
   "display_name": "Python 3 (ipykernel)",
   "language": "python",
   "name": "python3"
  },
  "language_info": {
   "codemirror_mode": {
    "name": "ipython",
    "version": 3
   },
   "file_extension": ".py",
   "mimetype": "text/x-python",
   "name": "python",
   "nbconvert_exporter": "python",
   "pygments_lexer": "ipython3",
   "version": "3.9.7"
  },
  "varInspector": {
   "cols": {
    "lenName": 16,
    "lenType": 16,
    "lenVar": 40
   },
   "kernels_config": {
    "python": {
     "delete_cmd_postfix": "",
     "delete_cmd_prefix": "del ",
     "library": "var_list.py",
     "varRefreshCmd": "print(var_dic_list())"
    },
    "r": {
     "delete_cmd_postfix": ") ",
     "delete_cmd_prefix": "rm(",
     "library": "var_list.r",
     "varRefreshCmd": "cat(var_dic_list()) "
    }
   },
   "types_to_exclude": [
    "module",
    "function",
    "builtin_function_or_method",
    "instance",
    "_Feature"
   ],
   "window_display": false
  }
 },
 "nbformat": 4,
 "nbformat_minor": 2
}
